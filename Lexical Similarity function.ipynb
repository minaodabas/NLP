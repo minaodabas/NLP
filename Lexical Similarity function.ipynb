{
 "cells": [
  {
   "cell_type": "code",
   "execution_count": 11,
   "metadata": {},
   "outputs": [
    {
     "name": "stdout",
     "output_type": "stream",
     "text": [
      "Requirement already satisfied: fuzzywuzzy in c:\\anaconda3\\lib\\site-packages (0.18.0)\n",
      "Note: you may need to restart the kernel to use updated packages.\n"
     ]
    }
   ],
   "source": [
    "pip install fuzzywuzzy"
   ]
  },
  {
   "cell_type": "code",
   "execution_count": 12,
   "metadata": {},
   "outputs": [],
   "source": [
    "import difflib\n",
    "from nltk.tokenize import word_tokenize"
   ]
  },
  {
   "cell_type": "code",
   "execution_count": 13,
   "metadata": {},
   "outputs": [
    {
     "name": "stdout",
     "output_type": "stream",
     "text": [
      "0.8888888888888888\n"
     ]
    }
   ],
   "source": [
    "s1='selam'\n",
    "s2='selm'\n",
    "print(difflib.SequenceMatcher(None,s1,s2,False).ratio())"
   ]
  },
  {
   "cell_type": "code",
   "execution_count": 14,
   "metadata": {},
   "outputs": [
    {
     "name": "stdout",
     "output_type": "stream",
     "text": [
      "Fuzzywuzzy Ratio: 82\n",
      "List of rations: \n",
      "[('elmacık', 90), ('elmalı', 90), ('elim', 75), ('elli', 50)] \n",
      "\n",
      "Best amang the above list: ('elmacık', 90)\n"
     ]
    }
   ],
   "source": [
    "from fuzzywuzzy import fuzz\n",
    "from fuzzywuzzy import process\n",
    "\n",
    "s1= \"Anadolu türkiyenin bir bölgesidir\"\n",
    "s2=\"Marmara türkiyenin bir bölgesidir\"\n",
    "print(\"Fuzzywuzzy Ratio:\", fuzz.ratio(s1, s2))\n",
    "\n",
    "query = 'elma'\n",
    "choices = ['elmacık','elmalı','elli','elim']\n",
    "print (\"List of rations: \")\n",
    "print (process.extract(query, choices), '\\n')\n",
    "print (\"Best amang the above list:\" ,process.extractOne(query, choices))\n"
   ]
  },
  {
   "cell_type": "code",
   "execution_count": 15,
   "metadata": {},
   "outputs": [
    {
     "name": "stderr",
     "output_type": "stream",
     "text": [
      "[nltk_data] Downloading package stopwords to\n",
      "[nltk_data]     C:\\Users\\minao\\AppData\\Roaming\\nltk_data...\n",
      "[nltk_data]   Package stopwords is already up-to-date!\n"
     ]
    }
   ],
   "source": [
    "import nltk\n",
    "import re\n",
    "from nltk.collocations import *\n",
    "from collections import Counter\n",
    "nltk.download('stopwords')\n",
    "import difflib\n",
    "from nltk.tokenize import word_tokenize\n",
    "import pandas as pd"
   ]
  },
  {
   "cell_type": "code",
   "execution_count": 16,
   "metadata": {},
   "outputs": [],
   "source": [
    "def basic_clean(text):\n",
    "\n",
    "  wnl = nltk.stem.WordNetLemmatizer()\n",
    "  stopwords = nltk.corpus.stopwords.words('turkish') \n",
    "  words = re.sub(r'[^\\w\\s]', '', text).split()\n",
    "  return [wnl.lemmatize(word) for word in words if word not in stopwords]"
   ]
  },
  {
   "cell_type": "code",
   "execution_count": 19,
   "metadata": {},
   "outputs": [],
   "source": [
    "open_file=open(r'C:\\Users\\minao\\Desktop\\task 7.txt',encoding=\"utf-8\")\n",
    "df=open_file.read()"
   ]
  },
  {
   "cell_type": "code",
   "execution_count": 20,
   "metadata": {},
   "outputs": [],
   "source": [
    "words = basic_clean(df)"
   ]
  },
  {
   "cell_type": "code",
   "execution_count": 21,
   "metadata": {},
   "outputs": [
    {
     "name": "stdout",
     "output_type": "stream",
     "text": [
      "('merhab',) is used 1 times\n",
      "('Kale',) is used 1 times\n",
      "('çoçuk',) is used 1 times\n",
      "('avrup',) is used 1 times\n",
      "('denniz',) is used 1 times\n",
      "('anadolu',) is used 1 times\n",
      "('asya',) is used 1 times\n",
      "('kelime',) is used 1 times\n",
      "('havuz',) is used 1 times\n"
     ]
    }
   ],
   "source": [
    "low=nltk.ngrams(words,1)\n",
    "lowFrequency=Counter(low)\n",
    "valuesOfLowFrequency=list(lowFrequency.values())\n",
    "lowFrequencyList=list(lowFrequency)\n",
    "\n",
    "for x in range(0,len(lowFrequencyList)):\n",
    "    if(valuesOfLowFrequency[x]<6):\n",
    "        print(lowFrequencyList[x],\"is used\",valuesOfLowFrequency[x],\"times\")"
   ]
  },
  {
   "cell_type": "code",
   "execution_count": 22,
   "metadata": {},
   "outputs": [
    {
     "name": "stdout",
     "output_type": "stream",
     "text": [
      "('merhaba',) is used 7 times\n",
      "('Kalem',) is used 7 times\n",
      "('çocuk',) is used 7 times\n",
      "('avrupa',) is used 8 times\n",
      "('deniz',) is used 7 times\n",
      "('elma',) is used 10 times\n",
      "('armut',) is used 10 times\n",
      "('bilgisayar',) is used 10 times\n",
      "('telefon',) is used 10 times\n",
      "('makina',) is used 10 times\n"
     ]
    }
   ],
   "source": [
    "high=nltk.ngrams(words,1)\n",
    "highFrequency=Counter(high)\n",
    "valuesOfHighFrequency=list(highFrequency.values())\n",
    "highFrequencyList=list(highFrequency)\n",
    "\n",
    "for x in range(0,len(highFrequencyList)):\n",
    "    if(valuesOfHighFrequency[x]>4):\n",
    "        print(highFrequencyList[x],\"is used\",valuesOfHighFrequency[x],\"times\")"
   ]
  },
  {
   "cell_type": "code",
   "execution_count": 34,
   "metadata": {},
   "outputs": [],
   "source": [
    "low_freq_list=\"\"\" merhab Kale çoçuk avrup denniz\"\"\"\n",
    "low_freq_list=low_freq_list.split()"
   ]
  },
  {
   "cell_type": "code",
   "execution_count": 35,
   "metadata": {},
   "outputs": [],
   "source": [
    "high_freq_list=\"\"\" merhaba Kalem çocuk avrupa deniz\"\"\"\n",
    "high_freq_list=high_freq_list.split()"
   ]
  },
  {
   "cell_type": "code",
   "execution_count": 25,
   "metadata": {},
   "outputs": [
    {
     "name": "stdout",
     "output_type": "stream",
     "text": [
      "[(['merhab'], ['merhaba']), 'Similarity=>', 0.9230769230769231]\n",
      "[(['merhab'], ['Kalem']), 'Similarity=>', 0.18181818181818182]\n",
      "[(['merhab'], ['çocuk']), 'Similarity=>', 0.0]\n",
      "[(['merhab'], ['avrupa']), 'Similarity=>', 0.3333333333333333]\n",
      "[(['merhab'], ['deniz']), 'Similarity=>', 0.18181818181818182]\n",
      "[(['Kale'], ['merhaba']), 'Similarity=>', 0.18181818181818182]\n",
      "[(['Kale'], ['Kalem']), 'Similarity=>', 0.8888888888888888]\n",
      "[(['Kale'], ['çocuk']), 'Similarity=>', 0.0]\n",
      "[(['Kale'], ['avrupa']), 'Similarity=>', 0.2]\n",
      "[(['Kale'], ['deniz']), 'Similarity=>', 0.2222222222222222]\n",
      "[(['çoçuk'], ['merhaba']), 'Similarity=>', 0.0]\n",
      "[(['çoçuk'], ['Kalem']), 'Similarity=>', 0.0]\n",
      "[(['çoçuk'], ['çocuk']), 'Similarity=>', 0.8]\n",
      "[(['çoçuk'], ['avrupa']), 'Similarity=>', 0.18181818181818182]\n",
      "[(['çoçuk'], ['deniz']), 'Similarity=>', 0.0]\n",
      "[(['avrup'], ['merhaba']), 'Similarity=>', 0.16666666666666666]\n",
      "[(['avrup'], ['Kalem']), 'Similarity=>', 0.2]\n",
      "[(['avrup'], ['çocuk']), 'Similarity=>', 0.2]\n",
      "[(['avrup'], ['avrupa']), 'Similarity=>', 0.9090909090909091]\n",
      "[(['avrup'], ['deniz']), 'Similarity=>', 0.0]\n",
      "[(['denniz'], ['merhaba']), 'Similarity=>', 0.15384615384615385]\n",
      "[(['denniz'], ['Kalem']), 'Similarity=>', 0.18181818181818182]\n",
      "[(['denniz'], ['çocuk']), 'Similarity=>', 0.0]\n",
      "[(['denniz'], ['avrupa']), 'Similarity=>', 0.0]\n",
      "[(['denniz'], ['deniz']), 'Similarity=>', 0.9090909090909091]\n"
     ]
    }
   ],
   "source": [
    "for token1 in low_freq_list:\n",
    "    for token2 in high_freq_list:\n",
    "        mylist=[(token1.splitlines(),token2.splitlines()),\"Similarity=>\",difflib.SequenceMatcher(None,token1,token2,False).ratio()]\n",
    "        print(mylist)"
   ]
  },
  {
   "cell_type": "code",
   "execution_count": 26,
   "metadata": {},
   "outputs": [
    {
     "data": {
      "text/plain": [
       "[(['merhab'], ['merhaba'], 0.9230769230769231),\n",
       " (['Kale'], ['merhaba'], 0.18181818181818182),\n",
       " (['çoçuk'], ['merhaba'], 0.0),\n",
       " (['avrup'], ['merhaba'], 0.16666666666666666),\n",
       " (['denniz'], ['merhaba'], 0.15384615384615385),\n",
       " (['merhab'], ['Kalem'], 0.18181818181818182),\n",
       " (['Kale'], ['Kalem'], 0.8888888888888888),\n",
       " (['çoçuk'], ['Kalem'], 0.0),\n",
       " (['avrup'], ['Kalem'], 0.2),\n",
       " (['denniz'], ['Kalem'], 0.18181818181818182),\n",
       " (['merhab'], ['çocuk'], 0.0),\n",
       " (['Kale'], ['çocuk'], 0.0),\n",
       " (['çoçuk'], ['çocuk'], 0.8),\n",
       " (['avrup'], ['çocuk'], 0.2),\n",
       " (['denniz'], ['çocuk'], 0.0),\n",
       " (['merhab'], ['avrupa'], 0.3333333333333333),\n",
       " (['Kale'], ['avrupa'], 0.2),\n",
       " (['çoçuk'], ['avrupa'], 0.18181818181818182),\n",
       " (['avrup'], ['avrupa'], 0.9090909090909091),\n",
       " (['denniz'], ['avrupa'], 0.0),\n",
       " (['merhab'], ['deniz'], 0.18181818181818182),\n",
       " (['Kale'], ['deniz'], 0.2222222222222222),\n",
       " (['çoçuk'], ['deniz'], 0.0),\n",
       " (['avrup'], ['deniz'], 0.0),\n",
       " (['denniz'], ['deniz'], 0.9090909090909091)]"
      ]
     },
     "execution_count": 26,
     "metadata": {},
     "output_type": "execute_result"
    }
   ],
   "source": [
    "mylist2=[(token1.splitlines(),token2.splitlines(),difflib.SequenceMatcher(None,token1,token2,False).ratio()) for token2 in high_freq_list for token1 in low_freq_list]\n",
    "mylist2"
   ]
  },
  {
   "cell_type": "code",
   "execution_count": 27,
   "metadata": {},
   "outputs": [],
   "source": [
    "df=pd.DataFrame(mylist2)"
   ]
  },
  {
   "cell_type": "code",
   "execution_count": 28,
   "metadata": {},
   "outputs": [
    {
     "data": {
      "text/html": [
       "<div>\n",
       "<style scoped>\n",
       "    .dataframe tbody tr th:only-of-type {\n",
       "        vertical-align: middle;\n",
       "    }\n",
       "\n",
       "    .dataframe tbody tr th {\n",
       "        vertical-align: top;\n",
       "    }\n",
       "\n",
       "    .dataframe thead th {\n",
       "        text-align: right;\n",
       "    }\n",
       "</style>\n",
       "<table border=\"1\" class=\"dataframe\">\n",
       "  <thead>\n",
       "    <tr style=\"text-align: right;\">\n",
       "      <th></th>\n",
       "      <th>0</th>\n",
       "      <th>1</th>\n",
       "      <th>2</th>\n",
       "    </tr>\n",
       "  </thead>\n",
       "  <tbody>\n",
       "    <tr>\n",
       "      <td>0</td>\n",
       "      <td>[merhab]</td>\n",
       "      <td>[merhaba]</td>\n",
       "      <td>0.923077</td>\n",
       "    </tr>\n",
       "    <tr>\n",
       "      <td>1</td>\n",
       "      <td>[Kale]</td>\n",
       "      <td>[merhaba]</td>\n",
       "      <td>0.181818</td>\n",
       "    </tr>\n",
       "    <tr>\n",
       "      <td>2</td>\n",
       "      <td>[çoçuk]</td>\n",
       "      <td>[merhaba]</td>\n",
       "      <td>0.000000</td>\n",
       "    </tr>\n",
       "    <tr>\n",
       "      <td>3</td>\n",
       "      <td>[avrup]</td>\n",
       "      <td>[merhaba]</td>\n",
       "      <td>0.166667</td>\n",
       "    </tr>\n",
       "    <tr>\n",
       "      <td>4</td>\n",
       "      <td>[denniz]</td>\n",
       "      <td>[merhaba]</td>\n",
       "      <td>0.153846</td>\n",
       "    </tr>\n",
       "  </tbody>\n",
       "</table>\n",
       "</div>"
      ],
      "text/plain": [
       "          0          1         2\n",
       "0  [merhab]  [merhaba]  0.923077\n",
       "1    [Kale]  [merhaba]  0.181818\n",
       "2   [çoçuk]  [merhaba]  0.000000\n",
       "3   [avrup]  [merhaba]  0.166667\n",
       "4  [denniz]  [merhaba]  0.153846"
      ]
     },
     "execution_count": 28,
     "metadata": {},
     "output_type": "execute_result"
    }
   ],
   "source": [
    "df.head()"
   ]
  },
  {
   "cell_type": "code",
   "execution_count": 29,
   "metadata": {},
   "outputs": [
    {
     "name": "stderr",
     "output_type": "stream",
     "text": [
      "C:\\Anaconda3\\lib\\site-packages\\ipykernel_launcher.py:1: UserWarning: Pandas doesn't allow columns to be created via a new attribute name - see https://pandas.pydata.org/pandas-docs/stable/indexing.html#attribute-access\n",
      "  \"\"\"Entry point for launching an IPython kernel.\n"
     ]
    },
    {
     "data": {
      "text/html": [
       "<div>\n",
       "<style scoped>\n",
       "    .dataframe tbody tr th:only-of-type {\n",
       "        vertical-align: middle;\n",
       "    }\n",
       "\n",
       "    .dataframe tbody tr th {\n",
       "        vertical-align: top;\n",
       "    }\n",
       "\n",
       "    .dataframe thead th {\n",
       "        text-align: right;\n",
       "    }\n",
       "</style>\n",
       "<table border=\"1\" class=\"dataframe\">\n",
       "  <thead>\n",
       "    <tr style=\"text-align: right;\">\n",
       "      <th></th>\n",
       "      <th>0</th>\n",
       "      <th>1</th>\n",
       "      <th>2</th>\n",
       "    </tr>\n",
       "  </thead>\n",
       "  <tbody>\n",
       "    <tr>\n",
       "      <td>0</td>\n",
       "      <td>[merhab]</td>\n",
       "      <td>[merhaba]</td>\n",
       "      <td>0.923077</td>\n",
       "    </tr>\n",
       "    <tr>\n",
       "      <td>1</td>\n",
       "      <td>[Kale]</td>\n",
       "      <td>[merhaba]</td>\n",
       "      <td>0.181818</td>\n",
       "    </tr>\n",
       "    <tr>\n",
       "      <td>2</td>\n",
       "      <td>[çoçuk]</td>\n",
       "      <td>[merhaba]</td>\n",
       "      <td>0.000000</td>\n",
       "    </tr>\n",
       "    <tr>\n",
       "      <td>3</td>\n",
       "      <td>[avrup]</td>\n",
       "      <td>[merhaba]</td>\n",
       "      <td>0.166667</td>\n",
       "    </tr>\n",
       "    <tr>\n",
       "      <td>4</td>\n",
       "      <td>[denniz]</td>\n",
       "      <td>[merhaba]</td>\n",
       "      <td>0.153846</td>\n",
       "    </tr>\n",
       "    <tr>\n",
       "      <td>5</td>\n",
       "      <td>[merhab]</td>\n",
       "      <td>[Kalem]</td>\n",
       "      <td>0.181818</td>\n",
       "    </tr>\n",
       "    <tr>\n",
       "      <td>6</td>\n",
       "      <td>[Kale]</td>\n",
       "      <td>[Kalem]</td>\n",
       "      <td>0.888889</td>\n",
       "    </tr>\n",
       "    <tr>\n",
       "      <td>7</td>\n",
       "      <td>[çoçuk]</td>\n",
       "      <td>[Kalem]</td>\n",
       "      <td>0.000000</td>\n",
       "    </tr>\n",
       "    <tr>\n",
       "      <td>8</td>\n",
       "      <td>[avrup]</td>\n",
       "      <td>[Kalem]</td>\n",
       "      <td>0.200000</td>\n",
       "    </tr>\n",
       "    <tr>\n",
       "      <td>9</td>\n",
       "      <td>[denniz]</td>\n",
       "      <td>[Kalem]</td>\n",
       "      <td>0.181818</td>\n",
       "    </tr>\n",
       "    <tr>\n",
       "      <td>10</td>\n",
       "      <td>[merhab]</td>\n",
       "      <td>[çocuk]</td>\n",
       "      <td>0.000000</td>\n",
       "    </tr>\n",
       "    <tr>\n",
       "      <td>11</td>\n",
       "      <td>[Kale]</td>\n",
       "      <td>[çocuk]</td>\n",
       "      <td>0.000000</td>\n",
       "    </tr>\n",
       "    <tr>\n",
       "      <td>12</td>\n",
       "      <td>[çoçuk]</td>\n",
       "      <td>[çocuk]</td>\n",
       "      <td>0.800000</td>\n",
       "    </tr>\n",
       "    <tr>\n",
       "      <td>13</td>\n",
       "      <td>[avrup]</td>\n",
       "      <td>[çocuk]</td>\n",
       "      <td>0.200000</td>\n",
       "    </tr>\n",
       "    <tr>\n",
       "      <td>14</td>\n",
       "      <td>[denniz]</td>\n",
       "      <td>[çocuk]</td>\n",
       "      <td>0.000000</td>\n",
       "    </tr>\n",
       "    <tr>\n",
       "      <td>15</td>\n",
       "      <td>[merhab]</td>\n",
       "      <td>[avrupa]</td>\n",
       "      <td>0.333333</td>\n",
       "    </tr>\n",
       "    <tr>\n",
       "      <td>16</td>\n",
       "      <td>[Kale]</td>\n",
       "      <td>[avrupa]</td>\n",
       "      <td>0.200000</td>\n",
       "    </tr>\n",
       "    <tr>\n",
       "      <td>17</td>\n",
       "      <td>[çoçuk]</td>\n",
       "      <td>[avrupa]</td>\n",
       "      <td>0.181818</td>\n",
       "    </tr>\n",
       "    <tr>\n",
       "      <td>18</td>\n",
       "      <td>[avrup]</td>\n",
       "      <td>[avrupa]</td>\n",
       "      <td>0.909091</td>\n",
       "    </tr>\n",
       "    <tr>\n",
       "      <td>19</td>\n",
       "      <td>[denniz]</td>\n",
       "      <td>[avrupa]</td>\n",
       "      <td>0.000000</td>\n",
       "    </tr>\n",
       "    <tr>\n",
       "      <td>20</td>\n",
       "      <td>[merhab]</td>\n",
       "      <td>[deniz]</td>\n",
       "      <td>0.181818</td>\n",
       "    </tr>\n",
       "    <tr>\n",
       "      <td>21</td>\n",
       "      <td>[Kale]</td>\n",
       "      <td>[deniz]</td>\n",
       "      <td>0.222222</td>\n",
       "    </tr>\n",
       "    <tr>\n",
       "      <td>22</td>\n",
       "      <td>[çoçuk]</td>\n",
       "      <td>[deniz]</td>\n",
       "      <td>0.000000</td>\n",
       "    </tr>\n",
       "    <tr>\n",
       "      <td>23</td>\n",
       "      <td>[avrup]</td>\n",
       "      <td>[deniz]</td>\n",
       "      <td>0.000000</td>\n",
       "    </tr>\n",
       "    <tr>\n",
       "      <td>24</td>\n",
       "      <td>[denniz]</td>\n",
       "      <td>[deniz]</td>\n",
       "      <td>0.909091</td>\n",
       "    </tr>\n",
       "  </tbody>\n",
       "</table>\n",
       "</div>"
      ],
      "text/plain": [
       "           0          1         2\n",
       "0   [merhab]  [merhaba]  0.923077\n",
       "1     [Kale]  [merhaba]  0.181818\n",
       "2    [çoçuk]  [merhaba]  0.000000\n",
       "3    [avrup]  [merhaba]  0.166667\n",
       "4   [denniz]  [merhaba]  0.153846\n",
       "5   [merhab]    [Kalem]  0.181818\n",
       "6     [Kale]    [Kalem]  0.888889\n",
       "7    [çoçuk]    [Kalem]  0.000000\n",
       "8    [avrup]    [Kalem]  0.200000\n",
       "9   [denniz]    [Kalem]  0.181818\n",
       "10  [merhab]    [çocuk]  0.000000\n",
       "11    [Kale]    [çocuk]  0.000000\n",
       "12   [çoçuk]    [çocuk]  0.800000\n",
       "13   [avrup]    [çocuk]  0.200000\n",
       "14  [denniz]    [çocuk]  0.000000\n",
       "15  [merhab]   [avrupa]  0.333333\n",
       "16    [Kale]   [avrupa]  0.200000\n",
       "17   [çoçuk]   [avrupa]  0.181818\n",
       "18   [avrup]   [avrupa]  0.909091\n",
       "19  [denniz]   [avrupa]  0.000000\n",
       "20  [merhab]    [deniz]  0.181818\n",
       "21    [Kale]    [deniz]  0.222222\n",
       "22   [çoçuk]    [deniz]  0.000000\n",
       "23   [avrup]    [deniz]  0.000000\n",
       "24  [denniz]    [deniz]  0.909091"
      ]
     },
     "execution_count": 29,
     "metadata": {},
     "output_type": "execute_result"
    }
   ],
   "source": [
    "df.colums=[\"Low_token\",\"High_token\",\"Similarity\"]\n",
    "df"
   ]
  },
  {
   "cell_type": "code",
   "execution_count": 31,
   "metadata": {},
   "outputs": [
    {
     "data": {
      "text/plain": [
       "0.9230769230769231"
      ]
     },
     "execution_count": 31,
     "metadata": {},
     "output_type": "execute_result"
    }
   ],
   "source": [
    "from difflib import SequenceMatcher\n",
    "m = SequenceMatcher(None,\"merhab\",\"merhaba\")\n",
    "m.ratio()"
   ]
  },
  {
   "cell_type": "code",
   "execution_count": 32,
   "metadata": {},
   "outputs": [
    {
     "data": {
      "text/plain": [
       "0.18181818181818182"
      ]
     },
     "execution_count": 32,
     "metadata": {},
     "output_type": "execute_result"
    }
   ],
   "source": [
    "from difflib import SequenceMatcher\n",
    "m = SequenceMatcher(None,\"Kale\",\"merhaba\")\n",
    "m.ratio()"
   ]
  },
  {
   "cell_type": "code",
   "execution_count": 33,
   "metadata": {},
   "outputs": [
    {
     "data": {
      "text/plain": [
       "0.0"
      ]
     },
     "execution_count": 33,
     "metadata": {},
     "output_type": "execute_result"
    }
   ],
   "source": [
    "from difflib import SequenceMatcher\n",
    "m = SequenceMatcher(None,\"çoçuk\",\"merhaba\")\n",
    "m.ratio()"
   ]
  },
  {
   "cell_type": "code",
   "execution_count": null,
   "metadata": {},
   "outputs": [],
   "source": []
  }
 ],
 "metadata": {
  "kernelspec": {
   "display_name": "Python 3",
   "language": "python",
   "name": "python3"
  },
  "language_info": {
   "codemirror_mode": {
    "name": "ipython",
    "version": 3
   },
   "file_extension": ".py",
   "mimetype": "text/x-python",
   "name": "python",
   "nbconvert_exporter": "python",
   "pygments_lexer": "ipython3",
   "version": "3.7.4"
  }
 },
 "nbformat": 4,
 "nbformat_minor": 2
}
