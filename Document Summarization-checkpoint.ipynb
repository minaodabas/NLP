{
 "cells": [
  {
   "cell_type": "markdown",
   "metadata": {},
   "source": [
    "#SIMPLE DOCUMENT SUMMARIZATION"
   ]
  },
  {
   "cell_type": "code",
   "execution_count": 1,
   "metadata": {},
   "outputs": [],
   "source": [
    "original_text =\"\"\"\" Neuro Linguistic Programming began it’s life early in the 1970s when an Associate Professor from the University of California, Santa Cruz, John Grinder, teamed up with an undergraduate Richard Bandler. Both men had a fascination with human excellence which charted a path for them to model behavioural patterns of selected geniuses.\n",
    "\n",
    "Modelling is the core activity in NLP, and is the process of extricating and replicating the language structure and behavioural patterns of an individual who is excellent at a given activity.\n",
    "\n",
    "Grinder and Bandler began their NLP quest by modelling three people, Fritz Perls, Virginia Satir and Milton Erickson. These geniuses were outstanding as professional agents of change, working in the domain of therapy. All three geniuses, Perls, Satir and Erickson performed their magic from a perspective of unconscious excellence. \n",
    "\n",
    "The geniuses did not present Grinder and Bandler with a conscious description of their behaviour. The modellers (Grinder and Bandler) unconsciously absorbed the patterning inherent in the geniuses and then provided a description.With little direct knowledge of each of the geniuses speciality and little knowledge of the field of psychotherapy on the whole, Grinder and Bandler over a two year period set out with enthusiasm bordering on fervour, to explicate selected portions of the geniuses’ behaviour. They coded the results of their work in language-based models using the patterns of transformational grammar as the descriptive vocabulary. Through NLP Modelling Grinder and Bandler made explicit the tacit skills of the geniuses and NLP was born.\n",
    "\n",
    "The company that Grinder and Bandler were keeping in these heady days of the 1970s was a melting pot of enquiring minds seeking investigation into human behaviour. John Grinder was an associate professor at the University of California, Santa Cruz and Richard Bandler a fourth year undergraduate student. The world renowned anthropologist Gregory Bateson had joined the faculty at Kresge College, and such was Bateson’s interest in Grinder and Bandler’s collaboration he introduced Grinder and Bandler to Milton Erickson. Bateson provided support, feedback and his enthusiasm is in part captured in his introduction to the book Structure of Magic where he states “John Grinder and Richard Bandler have done something similar to what my colleagues and I attempted fifteen years ago.”\"\"\""
   ]
  },
  {
   "cell_type": "markdown",
   "metadata": {},
   "source": [
    "Extract the summary of the given text based on the LexRank Algorithm."
   ]
  },
  {
   "cell_type": "code",
   "execution_count": 3,
   "metadata": {},
   "outputs": [
    {
     "name": "stdout",
     "output_type": "stream",
     "text": [
      "(<Sentence: Grinder and Bandler began their NLP quest by modelling three people, Fritz Perls, Virginia Satir and Milton Erickson.>, <Sentence: Bateson provided support, feedback and his enthusiasm is in part captured in his introduction to the book Structure of Magic where he states “John Grinder and Richard Bandler have done something similar to what my colleagues and I attempted fifteen years ago.”>)\n"
     ]
    }
   ],
   "source": [
    "import sumy\n",
    "from sumy.summarizers.lex_rank import LexRankSummarizer\n",
    "\n",
    "#Plain text parsers since we are parsing through text\n",
    "from sumy.parsers.plaintext import PlaintextParser\n",
    "from sumy.nlp.tokenizers import Tokenizer\n",
    "\n",
    "parser=PlaintextParser.from_string(original_text,Tokenizer(\"english\"))\n",
    "\n",
    "summarizer=LexRankSummarizer()\n",
    "my_summary=summarizer(parser.document,2)\n",
    "print(my_summary)"
   ]
  },
  {
   "cell_type": "markdown",
   "metadata": {},
   "source": [
    "Extract the summary of the given text based on the Luhn Algorithm."
   ]
  },
  {
   "cell_type": "code",
   "execution_count": 4,
   "metadata": {},
   "outputs": [
    {
     "name": "stdout",
     "output_type": "stream",
     "text": [
      "(<Sentence: The modellers (Grinder and Bandler) unconsciously absorbed the patterning inherent in the geniuses and then provided a description.With little direct knowledge of each of the geniuses speciality and little knowledge of the field of psychotherapy on the whole, Grinder and Bandler over a two year period set out with enthusiasm bordering on fervour, to explicate selected portions of the geniuses’ behaviour.>, <Sentence: John Grinder was an associate professor at the University of California, Santa Cruz and Richard Bandler a fourth year undergraduate student.>)\n"
     ]
    }
   ],
   "source": [
    "import sumy\n",
    "from sumy.summarizers.luhn import LuhnSummarizer\n",
    "\n",
    "#Plain text parsers since we are parsing through text\n",
    "from sumy.parsers.plaintext import PlaintextParser\n",
    "from sumy.nlp.tokenizers import Tokenizer\n",
    "\n",
    "parser=PlaintextParser.from_string(original_text,Tokenizer(\"english\"))\n",
    "\n",
    "summarizer=LuhnSummarizer()\n",
    "my_summary=summarizer(parser.document,2)\n",
    "print(my_summary)"
   ]
  },
  {
   "cell_type": "markdown",
   "metadata": {},
   "source": [
    "Extract the summary of the given text based on the LSA Algorithm."
   ]
  },
  {
   "cell_type": "code",
   "execution_count": 5,
   "metadata": {},
   "outputs": [
    {
     "name": "stdout",
     "output_type": "stream",
     "text": [
      "(<Sentence: All three geniuses, Perls, Satir and Erickson performed their magic from a perspective of unconscious excellence.>, <Sentence: John Grinder was an associate professor at the University of California, Santa Cruz and Richard Bandler a fourth year undergraduate student.>)\n"
     ]
    }
   ],
   "source": [
    "import sumy\n",
    "from sumy.summarizers.lsa import LsaSummarizer\n",
    "\n",
    "#Plain text parsers since we are parsing through text\n",
    "from sumy.parsers.plaintext import PlaintextParser\n",
    "from sumy.nlp.tokenizers import Tokenizer\n",
    "\n",
    "parser=PlaintextParser.from_string(original_text,Tokenizer(\"english\"))\n",
    "\n",
    "summarizer=LsaSummarizer()\n",
    "my_summary=summarizer(parser.document,2)\n",
    "print(my_summary)"
   ]
  },
  {
   "cell_type": "code",
   "execution_count": null,
   "metadata": {},
   "outputs": [],
   "source": []
  }
 ],
 "metadata": {
  "kernelspec": {
   "display_name": "Python 3",
   "language": "python",
   "name": "python3"
  },
  "language_info": {
   "codemirror_mode": {
    "name": "ipython",
    "version": 3
   },
   "file_extension": ".py",
   "mimetype": "text/x-python",
   "name": "python",
   "nbconvert_exporter": "python",
   "pygments_lexer": "ipython3",
   "version": "3.7.4"
  }
 },
 "nbformat": 4,
 "nbformat_minor": 2
}
