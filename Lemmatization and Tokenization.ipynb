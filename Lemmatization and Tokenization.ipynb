{
 "cells": [
  {
   "cell_type": "markdown",
   "metadata": {},
   "source": [
    "NATURAL LANGUAGE PROCESSING\n",
    "TASK1 Tokenizing and Lemmatization"
   ]
  },
  {
   "cell_type": "code",
   "execution_count": null,
   "metadata": {},
   "outputs": [],
   "source": [
    "import nltk\n",
    "nltk.download('punkt')\n",
    "nltk.download('stop')\n",
    "nltk.download('stopwords')"
   ]
  },
  {
   "cell_type": "code",
   "execution_count": null,
   "metadata": {},
   "outputs": [],
   "source": [
    "pip install tokenizer"
   ]
  },
  {
   "cell_type": "code",
   "execution_count": 5,
   "metadata": {},
   "outputs": [
    {
     "data": {
      "text/plain": [
       "['The',\n",
       " 'pie_chart',\n",
       " 'illustrates',\n",
       " 'the',\n",
       " 'primary',\n",
       " 'causes',\n",
       " 'of',\n",
       " 'land',\n",
       " 'deterioration',\n",
       " 'across',\n",
       " 'the',\n",
       " 'globe',\n",
       " 'while',\n",
       " 'the',\n",
       " 'table',\n",
       " 'outlines',\n",
       " 'how',\n",
       " 'three',\n",
       " 'different',\n",
       " 'regions',\n",
       " 'were',\n",
       " 'affected',\n",
       " 'by',\n",
       " 'these',\n",
       " 'damaging',\n",
       " 'factors',\n",
       " 'in',\n",
       " 'the',\n",
       " '1990s.',\n",
       " 'It',\n",
       " 'is',\n",
       " 'clear',\n",
       " 'from',\n",
       " 'the',\n",
       " 'pie_chart',\n",
       " 'that',\n",
       " 'the',\n",
       " 'main',\n",
       " 'reason',\n",
       " 'why',\n",
       " 'farmland',\n",
       " 'becomes',\n",
       " 'less',\n",
       " 'productive',\n",
       " 'is',\n",
       " 'over-grazing.',\n",
       " 'The',\n",
       " 'data',\n",
       " 'in',\n",
       " 'the',\n",
       " 'table',\n",
       " 'reveals',\n",
       " 'that',\n",
       " 'Europe',\n",
       " 'had',\n",
       " 'the',\n",
       " 'highest',\n",
       " 'percentage',\n",
       " 'of',\n",
       " 'degraded',\n",
       " 'land',\n",
       " 'compared',\n",
       " 'to',\n",
       " 'North_America',\n",
       " 'and',\n",
       " 'Oceania',\n",
       " 'for',\n",
       " 'the',\n",
       " 'period',\n",
       " 'recorded.',\n",
       " 'The',\n",
       " 'pie_chart',\n",
       " 'presents',\n",
       " 'two',\n",
       " 'additional',\n",
       " 'key',\n",
       " 'reasons',\n",
       " 'for',\n",
       " 'the',\n",
       " 'decrease',\n",
       " 'in',\n",
       " 'the',\n",
       " 'productivity',\n",
       " 'of',\n",
       " 'agricultural',\n",
       " 'land.',\n",
       " 'These',\n",
       " 'are',\n",
       " 'deforestation',\n",
       " 'and',\n",
       " 'over-cultivation.',\n",
       " 'Although',\n",
       " 'tree',\n",
       " 'clearance',\n",
       " 'is',\n",
       " 'almost',\n",
       " 'as',\n",
       " 'damaging',\n",
       " 'as',\n",
       " 'grazing',\n",
       " 'too',\n",
       " 'many',\n",
       " 'animals,',\n",
       " 'at',\n",
       " '30%,',\n",
       " 'it',\n",
       " 'has',\n",
       " 'a',\n",
       " '5%',\n",
       " 'lower',\n",
       " 'impact',\n",
       " 'than',\n",
       " 'over-grazing.',\n",
       " 'Excessive',\n",
       " 'cultivation',\n",
       " 'is',\n",
       " 'the',\n",
       " 'least',\n",
       " 'problematic',\n",
       " 'at',\n",
       " 'just',\n",
       " 'over',\n",
       " 'a',\n",
       " 'quarter',\n",
       " 'of',\n",
       " 'the',\n",
       " 'total.',\n",
       " 'According',\n",
       " 'to',\n",
       " 'the',\n",
       " 'table,',\n",
       " '23%',\n",
       " 'of',\n",
       " 'Europeâ€™s',\n",
       " 'agricultural',\n",
       " 'land',\n",
       " 'was',\n",
       " 'affected',\n",
       " 'by',\n",
       " 'these',\n",
       " 'damaging',\n",
       " 'practices.',\n",
       " 'This',\n",
       " 'was',\n",
       " 'almost',\n",
       " 'double',\n",
       " 'the',\n",
       " 'percentage',\n",
       " 'in',\n",
       " 'Oceania,',\n",
       " 'the',\n",
       " 'next',\n",
       " 'most',\n",
       " 'affected',\n",
       " 'region.',\n",
       " 'North_America',\n",
       " 'experienced',\n",
       " 'by',\n",
       " 'far',\n",
       " 'the',\n",
       " 'lowest',\n",
       " 'level',\n",
       " 'of',\n",
       " 'productivity',\n",
       " 'loss',\n",
       " 'with',\n",
       " 'a',\n",
       " 'figure',\n",
       " 'of',\n",
       " 'just',\n",
       " '5%',\n",
       " 'of',\n",
       " 'its',\n",
       " 'total',\n",
       " 'agricultural',\n",
       " 'land.']"
      ]
     },
     "execution_count": 5,
     "metadata": {},
     "output_type": "execute_result"
    }
   ],
   "source": [
    "from nltk.tokenize import MWETokenizer\n",
    "f = open(r\"C:\\Users\\minao\\Desktop\\Corpus.txt\",\"r\")\n",
    "text = f.read()\n",
    "tokenizer = MWETokenizer()\n",
    "tokenizer.add_mwe(('pie','chart'))\n",
    "tokenizer.add_mwe(('North','America'))\n",
    "tokenizer.add_mwe(('over','grazing'))\n",
    "\n",
    "tokenizer.tokenize(text.split()) \n"
   ]
  },
  {
   "cell_type": "code",
   "execution_count": null,
   "metadata": {},
   "outputs": [],
   "source": [
    "import nltk\n",
    "nltk.download('wordnet')"
   ]
  },
  {
   "cell_type": "code",
   "execution_count": 8,
   "metadata": {},
   "outputs": [
    {
     "name": "stdout",
     "output_type": "stream",
     "text": [
      "['The', 'pie', 'chart', 'illustrates', 'the', 'primary', 'causes', 'of', 'land', 'deterioration', 'across', 'the', 'globe', 'while', 'the', 'table', 'outlines', 'how', 'three', 'different', 'regions', 'were', 'affected', 'by', 'these', 'damaging', 'factors', 'in', 'the', '1990s', '.', 'It', 'is', 'clear', 'from', 'the', 'pie', 'chart', 'that', 'the', 'main', 'reason', 'why', 'farmland', 'becomes', 'less', 'productive', 'is', 'over-grazing', '.', 'The', 'data', 'in', 'the', 'table', 'reveals', 'that', 'Europe', 'had', 'the', 'highest', 'percentage', 'of', 'degraded', 'land', 'compared', 'to', 'North', 'America', 'and', 'Oceania', 'for', 'the', 'period', 'recorded', '.', 'The', 'pie', 'chart', 'presents', 'two', 'additional', 'key', 'reasons', 'for', 'the', 'decrease', 'in', 'the', 'productivity', 'of', 'agricultural', 'land', '.', 'These', 'are', 'deforestation', 'and', 'over-cultivation', '.', 'Although', 'tree', 'clearance', 'is', 'almost', 'as', 'damaging', 'as', 'grazing', 'too', 'many', 'animals', ',', 'at', '30', '%', ',', 'it', 'has', 'a', '5', '%', 'lower', 'impact', 'than', 'over-grazing', '.', 'Excessive', 'cultivation', 'is', 'the', 'least', 'problematic', 'at', 'just', 'over', 'a', 'quarter', 'of', 'the', 'total', '.', 'According', 'to', 'the', 'table', ',', '23', '%', 'of', 'Europeâ€™s', 'agricultural', 'land', 'was', 'affected', 'by', 'these', 'damaging', 'practices', '.', 'This', 'was', 'almost', 'double', 'the', 'percentage', 'in', 'Oceania', ',', 'the', 'next', 'most', 'affected', 'region', '.', 'North', 'America', 'experienced', 'by', 'far', 'the', 'lowest', 'level', 'of', 'productivity', 'loss', 'with', 'a', 'figure', 'of', 'just', '5', '%', 'of', 'its', 'total', 'agricultural', 'land', '.']\n",
      "illustrate\n",
      "region\n"
     ]
    }
   ],
   "source": [
    "import nltk\n",
    "from nltk.stem import WordNetLemmatizer \n",
    "f = open(r\"C:\\Users\\minao\\Desktop\\Corpus.txt\",\"r\")\n",
    "text = f.read()\n",
    "\n",
    "# Init the Wordnet Lemmatizer\n",
    "lemmatizer = WordNetLemmatizer()\n",
    "word_list = nltk.word_tokenize(text)\n",
    "print(word_list)\n",
    "print(lemmatizer.lemmatize(\"illustrates\", 'v'))\n",
    "print(lemmatizer.lemmatize(\"regions\", 'n'))\n",
    "\n",
    "\n",
    "\n",
    "\n"
   ]
  },
  {
   "cell_type": "code",
   "execution_count": 2,
   "metadata": {},
   "outputs": [
    {
     "data": {
      "text/plain": [
       "['The pie chart illustrates the primary causes of land deterioration across the globe while the table outlines how three different regions were affected by these damaging factors in the 1990s.',\n",
       " 'It is clear from the pie chart that the main reason why farmland becomes less productive is over-grazing.',\n",
       " 'The data in the table reveals that Europe had the highest percentage of degraded land compared to North America and Oceania for the period recorded.',\n",
       " 'The pie chart presents two additional key reasons for the decrease in the productivity of agricultural land.',\n",
       " 'These are deforestation and over-cultivation.',\n",
       " 'Although tree clearance is almost as damaging as grazing too many animals, at 30%, it has a 5% lower impact than over-grazing.',\n",
       " 'Excessive cultivation is the least problematic at just over a quarter of the total.',\n",
       " 'According to the table, 23% of Europeâ€™s agricultural land was affected by these damaging practices.',\n",
       " 'This was almost double the percentage in Oceania, the next most affected region.',\n",
       " 'North America experienced by far the lowest level of productivity loss with a figure of just 5% of its total agricultural land.']"
      ]
     },
     "execution_count": 2,
     "metadata": {},
     "output_type": "execute_result"
    }
   ],
   "source": [
    "from nltk.tokenize import sent_tokenize\n",
    "f = open(r\"C:\\Users\\minao\\Desktop\\Corpus.txt\",\"r\")\n",
    "text = f.read()\n",
    "sent_tokenize(text)\n",
    "\n"
   ]
  },
  {
   "cell_type": "code",
   "execution_count": 5,
   "metadata": {},
   "outputs": [
    {
     "data": {
      "text/plain": [
       "'the pie chart illustrate the primary cause of land deterioration acros the globe while the table outline how three different region be affect by these damage factor in the 1990s. it be clear from the pie chart that the main reason why farmland become les productive be over-grazing. the data in the table reveal that europe have the highest percentage of degrade land compare to north america and oceania for the period recorded. the pie chart present two additional key reason for the decrease in the productivity of agricultural land. these be deforestation and over-cultivation. although tree clearance be almost a damage a graze too many animals, at 30%, it have a 5% lower impact than over-grazing. excessive cultivation be the least problematic at just over a quarter of the total. accord to the table, 23% of europeâ€™ agricultural land be affect by these damage practices. thi be almost double the percentage in oceania, the next most affect region. north america experience by far the lowest level of productivity los with a figure of just 5% of it total agricultural land.'"
      ]
     },
     "execution_count": 5,
     "metadata": {},
     "output_type": "execute_result"
    }
   ],
   "source": [
    "import pattern\n",
    "from pattern.en import lemma, lexeme\n",
    "f = open(r\"C:\\Users\\minao\\Desktop\\Corpus.txt\",\"r\")\n",
    "text=f.read()\n",
    "\n",
    "\n",
    "\n",
    "\" \".join([lemma(wd) for wd in text.split()])"
   ]
  },
  {
   "cell_type": "code",
   "execution_count": null,
   "metadata": {},
   "outputs": [],
   "source": []
  }
 ],
 "metadata": {
  "kernelspec": {
   "display_name": "Python 3",
   "language": "python",
   "name": "python3"
  },
  "language_info": {
   "codemirror_mode": {
    "name": "ipython",
    "version": 3
   },
   "file_extension": ".py",
   "mimetype": "text/x-python",
   "name": "python",
   "nbconvert_exporter": "python",
   "pygments_lexer": "ipython3",
   "version": "3.7.4"
  }
 },
 "nbformat": 4,
 "nbformat_minor": 2
}
