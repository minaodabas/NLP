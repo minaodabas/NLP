{
 "cells": [
  {
   "cell_type": "markdown",
   "metadata": {},
   "source": [
    "NATURAL LANGUAGE PROCESSING TASK2 N-gram"
   ]
  },
  {
   "cell_type": "code",
   "execution_count": 27,
   "metadata": {},
   "outputs": [
    {
     "name": "stderr",
     "output_type": "stream",
     "text": [
      "[nltk_data] Downloading package stopwords to\n",
      "[nltk_data]     C:\\Users\\minao\\AppData\\Roaming\\nltk_data...\n",
      "[nltk_data]   Package stopwords is already up-to-date!\n"
     ]
    }
   ],
   "source": [
    "from collections import Counter\n",
    "import re\n",
    "import unicodedata\n",
    "import nltk\n",
    "nltk.download('stopwords')\n",
    "from collections import Counter\n",
    "import pandas as pd"
   ]
  },
  {
   "cell_type": "code",
   "execution_count": 62,
   "metadata": {},
   "outputs": [
    {
     "name": "stdout",
     "output_type": "stream",
     "text": [
      "('aday', 'memur') is used 4 times\n",
      "('memur', 'olarak') is used 4 times\n",
      "('8', 'ay') is used 4 times\n",
      "('ABD', '’') is used 3 times\n"
     ]
    }
   ],
   "source": [
    "\n",
    "f = open(r\"C:\\Users\\minao\\Desktop\\Task2.txt\",\"r\",encoding = \"utf-8\")\n",
    "text = f.read()\n",
    "my_stopwords=set(stopwords.words('turkish'))\n",
    "words=[]\n",
    "words = re.sub(r'[^\\w\\s]',\"\",text).split()\n",
    "\n",
    "\n",
    "\n",
    "# Tokenization using word_tokenize()\n",
    "all_tokens=nltk.word_tokenize(text)\n",
    "\n",
    "\n",
    "\n",
    "for token in all_tokens:\n",
    "    if token not in my_stopwords:\n",
    "        words.append(token)\n",
    "\n",
    "\n",
    "\n",
    "\n",
    "\n",
    "\" \".join(words)\n",
    "\n",
    "\n",
    "\n",
    "biagrams=nltk.ngrams(words,2)\n",
    "biagramsFrequency=Counter(biagrams)\n",
    "ValuesOfBiagrams=list(biagramsFrequency.values())\n",
    "biagramlist=list(biagramsFrequency)\n",
    "\n",
    "\n",
    "\n",
    "for x in range (0,len(biagramlist)):\n",
    "    if(ValuesOfBiagrams[x]>2):\n",
    "        print(biagramlist[x],\"is used\",ValuesOfBiagrams[x],\"times\")\n",
    "    \n",
    "   \n",
    "\n",
    "\n"
   ]
  },
  {
   "cell_type": "code",
   "execution_count": 63,
   "metadata": {},
   "outputs": [
    {
     "name": "stdout",
     "output_type": "stream",
     "text": [
      "('aday', 'memur', 'olarak') is used 4 times\n"
     ]
    }
   ],
   "source": [
    "triagrams=nltk.ngrams(words,3)\n",
    "triagramsFrequency=Counter(triagrams)\n",
    "ValuesOfTriagrams=list(triagramsFrequency.values())\n",
    "triagramlist=list(triagramsFrequency)\n",
    "\n",
    "for x in range (0,len(triagramlist)):\n",
    "    if(ValuesOfTriagrams[x]>2):\n",
    "        print(triagramlist[x],\"is used\",ValuesOfTriagrams[x],\"times\")\n"
   ]
  },
  {
   "cell_type": "code",
   "execution_count": null,
   "metadata": {},
   "outputs": [],
   "source": []
  }
 ],
 "metadata": {
  "kernelspec": {
   "display_name": "Python 3",
   "language": "python",
   "name": "python3"
  },
  "language_info": {
   "codemirror_mode": {
    "name": "ipython",
    "version": 3
   },
   "file_extension": ".py",
   "mimetype": "text/x-python",
   "name": "python",
   "nbconvert_exporter": "python",
   "pygments_lexer": "ipython3",
   "version": "3.7.4"
  }
 },
 "nbformat": 4,
 "nbformat_minor": 2
}
